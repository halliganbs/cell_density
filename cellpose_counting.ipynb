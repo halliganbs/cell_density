{
 "cells": [
  {
   "cell_type": "code",
   "execution_count": null,
   "metadata": {},
   "outputs": [],
   "source": [
    "import numpy as np\n",
    "import pandas as pd\n",
    "import matplotlib.pyplot as plt\n",
    "import seaborn as  sns\n",
    "import skimage.io\n",
    "import glob\n",
    "import re # REEEEEE\n",
    "\n",
    "import cellpose\n",
    "\n",
    "from cellpose import models\n",
    "from progress.bar import Bar\n",
    "\n",
    "PATH = 'data/INS1_BF/*/*.tiff'"
   ]
  },
  {
   "cell_type": "code",
   "execution_count": null,
   "metadata": {},
   "outputs": [],
   "source": [
    "files = glob.glob(PATH)\n",
    "print(type(files))\n",
    "print(len(files))"
   ]
  },
  {
   "cell_type": "code",
   "execution_count": null,
   "metadata": {},
   "outputs": [],
   "source": [
    "model = models.Cellpose(gpu=True, model_type='cyto')\n",
    "\n",
    "path_2k = 'data/INS1_BF/2000/*.tiff'\n",
    "files_2k = glob.glob(path_2k)\n",
    "print(files[0])"
   ]
  },
  {
   "cell_type": "code",
   "execution_count": null,
   "metadata": {},
   "outputs": [],
   "source": [
    "# columns=['filename', 'max', 'min','mean', 'Q1', 'Q3']\n",
    "# sub dirs\n",
    "dirs = glob.glob('data/INS1_BF/')"
   ]
  },
  {
   "cell_type": "code",
   "execution_count": null,
   "metadata": {},
   "outputs": [],
   "source": [
    "dirs/"
   ]
  },
  {
   "cell_type": "code",
   "execution_count": null,
   "metadata": {},
   "outputs": [],
   "source": [
    "def gen_data(path, model):\n",
    "    files = glob.glob(path+'/*.tiff')\n",
    "    imgs = [skimage.io.imread(f)for f in files]\n",
    "    masks, flows, styles, diams = model.eval(imgs, diameter=None, channels=[0,0],  do_3D=False)\n",
    "    masks=np.array(masks) # convert to numpy array\n",
    "    counts = np.zeros(len(masks)) # empty array to hold counts\n",
    "    bar = Bar(f'Loading Data: {path}',max=len(masks)) # progress\n",
    "    for i,m in enumerate(masks):\n",
    "        counts[i] = m.max()\n",
    "        bar.next()\n",
    "    bar.finish()\n",
    "    return (counts.min(), np.quantile(counts, 0.25), counts.mean(), np.quantile(counts, 0.75), counts.max())"
   ]
  },
  {
   "cell_type": "code",
   "execution_count": null,
   "metadata": {
    "scrolled": false
   },
   "outputs": [],
   "source": [
    "mins, q1, means, q3, maxs = [],[],[],[],[]\n",
    "for i, d in enumerate(dirs):\n",
    "    print(f'Getting data from {d}')\n",
    "    data = gen_data(d, model)\n",
    "    mins.append(data[0])\n",
    "    q1.append(data[1])\n",
    "    means.append(data[2])\n",
    "    q3.append(data[3])\n",
    "    maxs.append(data[4])\n",
    "    data = None\n",
    "\n",
    "count_data = {\n",
    "    'filenames':dirs,\n",
    "    'min':mins,\n",
    "    'q1':q1,\n",
    "    'mean':means,\n",
    "    'q3':q3,\n",
    "    'max':maxs\n",
    "}"
   ]
  },
  {
   "cell_type": "code",
   "execution_count": null,
   "metadata": {},
   "outputs": [],
   "source": [
    "df = pd.DataFrame.from_dict(count_data)"
   ]
  }
 ],
 "metadata": {
  "kernelspec": {
   "display_name": "Python 3",
   "language": "python",
   "name": "python3"
  },
  "language_info": {
   "codemirror_mode": {
    "name": "ipython",
    "version": 3
   },
   "file_extension": ".py",
   "mimetype": "text/x-python",
   "name": "python",
   "nbconvert_exporter": "python",
   "pygments_lexer": "ipython3",
   "version": "3.6.9"
  }
 },
 "nbformat": 4,
 "nbformat_minor": 4
}
