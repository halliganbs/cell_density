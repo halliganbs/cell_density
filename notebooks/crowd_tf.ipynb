{
 "cells": [
  {
   "cell_type": "markdown",
   "metadata": {},
   "source": [
    "## Tensorflow Crowd Counting for Cell Density\n",
    "\n",
    "Ben Halligan \n",
    "\n",
    "- Using the INS1_BF dataset\n",
    "- Based on [this](https://yangliang.github.io/pdf/sp055u.pdf) CNN\n"
   ]
  },
  {
   "cell_type": "markdown",
   "metadata": {},
   "source": [
    "## How to fix\n",
    "\n",
    "- <s>Shuffle the data in the generators to mix up filters</s>\n",
    "- Add a dropout to remove non-important connections\n",
    "- Increase the filter size to capture more the of the image in earlier layers\n",
    "- <s>Find out how to enable `tensorflow-gpu` with cuda-11.1 so I can have my life back</s>"
   ]
  },
  {
   "cell_type": "code",
   "execution_count": 1,
   "metadata": {},
   "outputs": [
    {
     "name": "stdout",
     "output_type": "stream",
     "text": [
      "Num GPUs Available:  2\n"
     ]
    }
   ],
   "source": [
    "import matplotlib.pyplot as plt\n",
    "import numpy as np\n",
    "import os\n",
    "import PIL\n",
    "import tensorflow as tf\n",
    "\n",
    "from tensorflow import keras\n",
    "from tensorflow.keras import layers\n",
    "from tensorflow.keras.models import Sequential\n",
    "\n",
    "from keras.preprocessing.image import ImageDataGenerator, array_to_img, img_to_array\n",
    "from PIL import Image\n",
    "\n",
    "\n",
    "import pathlib\n",
    "\n",
    "dataset_path = 'data/INS1_BF/'\n",
    "print(\"Num GPUs Available: \", len(tf.config.experimental.list_physical_devices('GPU')))"
   ]
  },
  {
   "cell_type": "code",
   "execution_count": 2,
   "metadata": {},
   "outputs": [],
   "source": [
    "# augment data to find more cells to count\n",
    "\n",
    "datagen = ImageDataGenerator(\n",
    "    rotation_range=40,\n",
    "    width_shift_range=0.2,\n",
    "    height_shift_range=0.2,\n",
    "    rescale=1./255,\n",
    "    shear_range=0.2,\n",
    "    zoom_range=0.2,\n",
    "    horizontal_flip=True,\n",
    "    fill_mode='nearest',\n",
    "    validation_split=0.2\n",
    ")\n",
    "\n",
    "# create preview\n",
    "############################################################\n",
    "outpath = 'out/test.jpg'\n",
    "img = Image.open('data/INS1_BF/2000/3765_M20_T0001F001L01A01Z01C01.tiff')\n",
    "img.show()\n",
    "############################################################"
   ]
  },
  {
   "cell_type": "code",
   "execution_count": 3,
   "metadata": {},
   "outputs": [
    {
     "name": "stderr",
     "output_type": "stream",
     "text": [
      "/home/ben/.local/lib/python3.6/site-packages/keras_preprocessing/image/utils.py:179: UserWarning: Using \".tiff\" files with multiple bands will cause distortion. Please verify your output.\n",
      "  warnings.warn('Using \".tiff\" files with multiple bands '\n"
     ]
    },
    {
     "name": "stdout",
     "output_type": "stream",
     "text": [
      "Found 312 images belonging to 6 classes.\n",
      "Found 72 images belonging to 6 classes.\n"
     ]
    }
   ],
   "source": [
    "# create train and test sets\n",
    "\n",
    "# train\n",
    "train_generator = datagen.flow_from_directory(\n",
    "    dataset_path,\n",
    "    target_size=(200,200),\n",
    "    color_mode='grayscale',\n",
    "    batch_size=32,\n",
    "    class_mode='categorical',\n",
    "    shuffle=True,\n",
    "    subset='training'\n",
    ")\n",
    "\n",
    "# test\n",
    "test_generator = datagen.flow_from_directory(\n",
    "    dataset_path,\n",
    "    target_size=(200,200),\n",
    "    color_mode='grayscale',\n",
    "    batch_size=32,\n",
    "    class_mode='categorical',\n",
    "    shuffle=True,\n",
    "    subset='validation'\n",
    ")"
   ]
  },
  {
   "cell_type": "code",
   "execution_count": 4,
   "metadata": {
    "scrolled": false
   },
   "outputs": [],
   "source": [
    "# new model based on paper\n",
    "\n",
    "num_classes = 6 # can't change\n",
    "batch_size = 32 # chanagable\n",
    "h, w = (200, 200) # height and width\n",
    "cc = 1 # color channel, 1 cause, you know... G R A Y\n",
    "\n",
    "model = None\n",
    "\n",
    "model = Sequential([\n",
    "    layers.experimental.preprocessing.Resizing(h,w),\n",
    "    layers.experimental.preprocessing.Rescaling(1./255, input_shape=(h, w, cc)),\n",
    "    layers.Conv2D(100, 5, padding='same', activation='relu'),\n",
    "    layers.MaxPooling2D(),\n",
    "    layers.Conv2D(64, 3, padding='same', activation='relu'),\n",
    "    layers.MaxPooling2D(),\n",
    "    layers.Conv2D(32, 3, padding='same', activation='relu'),\n",
    "    layers.MaxPooling2D(),\n",
    "    layers.Conv2D(16, 3, padding='same', activation='relu'),\n",
    "    layers.MaxPooling2D(),\n",
    "    layers.Flatten(),\n",
    "    layers.Dense(256, activation='relu'),\n",
    "    layers.Dropout(0.5),\n",
    "    layers.Dense(1)\n",
    "])"
   ]
  },
  {
   "cell_type": "code",
   "execution_count": 12,
   "metadata": {},
   "outputs": [
    {
     "name": "stdout",
     "output_type": "stream",
     "text": [
      "Model: \"sequential\"\n",
      "_________________________________________________________________\n",
      "Layer (type)                 Output Shape              Param #   \n",
      "=================================================================\n",
      "resizing (Resizing)          (None, 200, 200, None)    0         \n",
      "_________________________________________________________________\n",
      "rescaling (Rescaling)        (None, 200, 200, None)    0         \n",
      "_________________________________________________________________\n",
      "conv2d (Conv2D)              (None, 200, 200, 100)     2600      \n",
      "_________________________________________________________________\n",
      "max_pooling2d (MaxPooling2D) (None, 100, 100, 100)     0         \n",
      "_________________________________________________________________\n",
      "conv2d_1 (Conv2D)            (None, 100, 100, 64)      57664     \n",
      "_________________________________________________________________\n",
      "max_pooling2d_1 (MaxPooling2 (None, 50, 50, 64)        0         \n",
      "_________________________________________________________________\n",
      "conv2d_2 (Conv2D)            (None, 50, 50, 32)        18464     \n",
      "_________________________________________________________________\n",
      "max_pooling2d_2 (MaxPooling2 (None, 25, 25, 32)        0         \n",
      "_________________________________________________________________\n",
      "conv2d_3 (Conv2D)            (None, 25, 25, 16)        4624      \n",
      "_________________________________________________________________\n",
      "max_pooling2d_3 (MaxPooling2 (None, 12, 12, 16)        0         \n",
      "_________________________________________________________________\n",
      "flatten (Flatten)            (None, 2304)              0         \n",
      "_________________________________________________________________\n",
      "dense (Dense)                (None, 256)               590080    \n",
      "_________________________________________________________________\n",
      "dropout (Dropout)            (None, 256)               0         \n",
      "_________________________________________________________________\n",
      "dense_1 (Dense)              (None, 1)                 257       \n",
      "=================================================================\n",
      "Total params: 673,689\n",
      "Trainable params: 673,689\n",
      "Non-trainable params: 0\n",
      "_________________________________________________________________\n"
     ]
    }
   ],
   "source": [
    "model.build((None, 2000, 2000, 1))\n",
    "\n",
    "mse = tf.keras.losses.MeanSquaredError(reduction=\"auto\", name=\"mean_squared_error\")\n",
    "\n",
    "model.compile(optimizer='adam',\n",
    "             loss=mse,\n",
    "             metrics=['accuracy'])\n",
    "\n",
    "model.summary()"
   ]
  },
  {
   "cell_type": "code",
   "execution_count": 13,
   "metadata": {},
   "outputs": [
    {
     "name": "stdout",
     "output_type": "stream",
     "text": [
      "Epoch 1/25\n",
      "9/9 [==============================] - 1s 161ms/step - loss: 0.1452 - accuracy: 0.8333 - val_loss: 0.1391 - val_accuracy: 0.8333\n",
      "Epoch 2/25\n",
      "9/9 [==============================] - 1s 144ms/step - loss: 0.1401 - accuracy: 0.8333 - val_loss: 0.1392 - val_accuracy: 0.8333\n",
      "Epoch 3/25\n",
      "9/9 [==============================] - 1s 141ms/step - loss: 0.1396 - accuracy: 0.8333 - val_loss: 0.1390 - val_accuracy: 0.8333\n",
      "Epoch 4/25\n",
      "9/9 [==============================] - 1s 142ms/step - loss: 0.1395 - accuracy: 0.8333 - val_loss: 0.1389 - val_accuracy: 0.8333\n",
      "Epoch 5/25\n",
      "9/9 [==============================] - 1s 143ms/step - loss: 0.1394 - accuracy: 0.8333 - val_loss: 0.1390 - val_accuracy: 0.8333\n",
      "Epoch 6/25\n",
      "9/9 [==============================] - 1s 143ms/step - loss: 0.1393 - accuracy: 0.8333 - val_loss: 0.1389 - val_accuracy: 0.8333\n",
      "Epoch 7/25\n",
      "9/9 [==============================] - 1s 146ms/step - loss: 0.1394 - accuracy: 0.8333 - val_loss: 0.1389 - val_accuracy: 0.8333\n",
      "Epoch 8/25\n",
      "9/9 [==============================] - 1s 155ms/step - loss: 0.1393 - accuracy: 0.8333 - val_loss: 0.1389 - val_accuracy: 0.8333\n",
      "Epoch 9/25\n",
      "9/9 [==============================] - 1s 145ms/step - loss: 0.1392 - accuracy: 0.8333 - val_loss: 0.1389 - val_accuracy: 0.8333\n",
      "Epoch 10/25\n",
      "9/9 [==============================] - 1s 142ms/step - loss: 0.1392 - accuracy: 0.8333 - val_loss: 0.1389 - val_accuracy: 0.8333\n",
      "Epoch 11/25\n",
      "9/9 [==============================] - 1s 149ms/step - loss: 0.1392 - accuracy: 0.8333 - val_loss: 0.1389 - val_accuracy: 0.8333\n",
      "Epoch 12/25\n",
      "9/9 [==============================] - 1s 143ms/step - loss: 0.1392 - accuracy: 0.8333 - val_loss: 0.1389 - val_accuracy: 0.8333\n",
      "Epoch 13/25\n",
      "9/9 [==============================] - 1s 139ms/step - loss: 0.1393 - accuracy: 0.8333 - val_loss: 0.1389 - val_accuracy: 0.8333\n",
      "Epoch 14/25\n",
      "9/9 [==============================] - 1s 159ms/step - loss: 0.1392 - accuracy: 0.8333 - val_loss: 0.1389 - val_accuracy: 0.8333\n",
      "Epoch 15/25\n",
      "9/9 [==============================] - 1s 143ms/step - loss: 0.1392 - accuracy: 0.8333 - val_loss: 0.1389 - val_accuracy: 0.8333\n",
      "Epoch 16/25\n",
      "9/9 [==============================] - 1s 155ms/step - loss: 0.1393 - accuracy: 0.8333 - val_loss: 0.1389 - val_accuracy: 0.8333\n",
      "Epoch 17/25\n",
      "9/9 [==============================] - 1s 144ms/step - loss: 0.1392 - accuracy: 0.8333 - val_loss: 0.1390 - val_accuracy: 0.8333\n",
      "Epoch 18/25\n",
      "9/9 [==============================] - 1s 139ms/step - loss: 0.1392 - accuracy: 0.8333 - val_loss: 0.1389 - val_accuracy: 0.8333\n",
      "Epoch 19/25\n",
      "9/9 [==============================] - 1s 141ms/step - loss: 0.1392 - accuracy: 0.8333 - val_loss: 0.1389 - val_accuracy: 0.8333\n",
      "Epoch 20/25\n",
      "9/9 [==============================] - 1s 141ms/step - loss: 0.1391 - accuracy: 0.8333 - val_loss: 0.1389 - val_accuracy: 0.8333\n",
      "Epoch 21/25\n",
      "9/9 [==============================] - 1s 140ms/step - loss: 0.1392 - accuracy: 0.8333 - val_loss: 0.1389 - val_accuracy: 0.8333\n",
      "Epoch 22/25\n",
      "9/9 [==============================] - 1s 141ms/step - loss: 0.1392 - accuracy: 0.8333 - val_loss: 0.1389 - val_accuracy: 0.8333\n",
      "Epoch 23/25\n",
      "9/9 [==============================] - 1s 144ms/step - loss: 0.1392 - accuracy: 0.8333 - val_loss: 0.1389 - val_accuracy: 0.8333\n",
      "Epoch 24/25\n",
      "9/9 [==============================] - 1s 146ms/step - loss: 0.1392 - accuracy: 0.8333 - val_loss: 0.1389 - val_accuracy: 0.8333\n",
      "Epoch 25/25\n",
      "9/9 [==============================] - 1s 149ms/step - loss: 0.1392 - accuracy: 0.8333 - val_loss: 0.1389 - val_accuracy: 0.8333\n"
     ]
    }
   ],
   "source": [
    "num_epochs = 25\n",
    "history = model.fit(\n",
    "    train_generator,\n",
    "    steps_per_epoch = train_generator.samples // batch_size,\n",
    "    validation_data = test_generator,\n",
    "    validation_steps = test_generator.samples // batch_size,\n",
    "    epochs=num_epochs\n",
    ")"
   ]
  },
  {
   "cell_type": "code",
   "execution_count": 14,
   "metadata": {},
   "outputs": [
    {
     "data": {
      "image/png": "[encoded data removed]",
      "text/plain": [
       "<Figure size 576x576 with 2 Axes>"
      ]
     },
     "metadata": {
      "needs_background": "light"
     },
     "output_type": "display_data"
    }
   ],
   "source": [
    "acc = history.history['accuracy']\n",
    "val_acc = history.history['val_accuracy']\n",
    "\n",
    "loss = history.history['loss']\n",
    "val_loss = history.history['val_loss']\n",
    "\n",
    "epochs_range = range(num_epochs)\n",
    "\n",
    "plt.figure(figsize=(8, 8))\n",
    "plt.subplot(1, 2, 1)\n",
    "plt.plot(epochs_range, acc, label='Training Accuracy')\n",
    "plt.plot(epochs_range, val_acc, label='Validation Accuracy')\n",
    "plt.legend(loc='lower right')\n",
    "plt.title('Training and Validation Accuracy')\n",
    "\n",
    "plt.subplot(1, 2, 2)\n",
    "plt.plot(epochs_range, loss, label='Training Loss')\n",
    "plt.plot(epochs_range, val_loss, label='Validation Loss')\n",
    "plt.legend(loc='upper right')\n",
    "plt.title('Training and Validation Loss')\n",
    "plt.show()"
   ]
  },
  {
   "cell_type": "code",
   "execution_count": null,
   "metadata": {},
   "outputs": [],
   "source": []
  },
  {
   "cell_type": "markdown",
   "metadata": {},
   "source": [
    "```\n",
    "# build a simple model (not the one in the paper)\n",
    "\n",
    "num_classes = 6 # can't change\n",
    "batch_size = 32 # chanagable\n",
    "h, w = (IMG_SIZE, IMG_SIZE) # height and width\n",
    "cc = 1 # color channel, 1 cause, you know... G R A Y\n",
    "\n",
    "model = Sequential([\n",
    "#     resize_rescale,\n",
    "    layers.experimental.preprocessing.Rescaling(1./255, input_shape=(h, w, cc)),\n",
    "    layers.Conv2D(16, 3, padding='same', activation='relu'),\n",
    "    layers.MaxPooling2D(),\n",
    "    layers.Conv2D(32, 3, padding='same', activation='relu'),\n",
    "    layers.MaxPooling2D(),\n",
    "    layers.Conv2D(4, 3, padding='same', activation='relu'),\n",
    "    layers.MaxPooling2D(),\n",
    "    layers.Flatten(),\n",
    "    layers.Dense(128, activation='relu'),\n",
    "    layers.Dense(num_classes)\n",
    "])\n",
    "\n",
    "model.compile(optimizer='adam',\n",
    "             loss='categorical_crossentropy',\n",
    "             metrics=['accuracy'])\n",
    "\n",
    "model.summary()\n",
    "\n",
    "num_epochs = 25\n",
    "history = model.fit(\n",
    "    train_generator,\n",
    "    steps_per_epoch = train_generator.samples // batch_size,\n",
    "    validation_data = test_generator,\n",
    "    validation_steps = test_generator.samples // batch_size,\n",
    "    epochs=num_epochs\n",
    ")\n",
    "\n",
    "# graph the terrible results\n",
    "\n",
    "acc = history.history['accuracy']\n",
    "val_acc = history.history['val_accuracy']\n",
    "\n",
    "loss = history.history['loss']\n",
    "val_loss = history.history['val_loss']\n",
    "\n",
    "epochs_range = range(num_epochs)\n",
    "\n",
    "plt.figure(figsize=(8, 8))\n",
    "plt.subplot(1, 2, 1)\n",
    "plt.plot(epochs_range, acc, label='Training Accuracy')\n",
    "plt.plot(epochs_range, val_acc, label='Validation Accuracy')\n",
    "plt.legend(loc='lower right')\n",
    "plt.title('Training and Validation Accuracy')\n",
    "\n",
    "plt.subplot(1, 2, 2)\n",
    "plt.plot(epochs_range, loss, label='Training Loss')\n",
    "plt.plot(epochs_range, val_loss, label='Validation Loss')\n",
    "plt.legend(loc='upper right')\n",
    "plt.title('Training and Validation Loss')\n",
    "plt.show()\n",
    "\n",
    "```"
   ]
  },
  {
   "cell_type": "markdown",
   "metadata": {},
   "source": [
    "Example `model.fit_generator()`\n",
    "\n",
    "```\n",
    "model.fit_generator(\n",
    "    train_generator,\n",
    "    steps_per_epoch = train_generator.samples // batch_size,\n",
    "    validation_data = validation_generator, \n",
    "    validation_steps = validation_generator.samples // batch_size,\n",
    "    epochs = nb_epochs)\n",
    "```\n"
   ]
  }
 ],
 "metadata": {
  "kernelspec": {
   "display_name": "Python 3",
   "language": "python",
   "name": "python3"
  },
  "language_info": {
   "codemirror_mode": {
    "name": "ipython",
    "version": 3
   },
   "file_extension": ".py",
   "mimetype": "text/x-python",
   "name": "python",
   "nbconvert_exporter": "python",
   "pygments_lexer": "ipython3",
   "version": "3.6.9"
  }
 },
 "nbformat": 4,
 "nbformat_minor": 4
}
